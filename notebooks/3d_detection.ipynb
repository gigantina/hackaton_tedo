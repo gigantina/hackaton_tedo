{
 "cells": [
  {
   "cell_type": "code",
   "execution_count": null,
   "id": "e39e23c4-0205-4ca0-9966-d06a2bd40d21",
   "metadata": {},
   "outputs": [],
   "source": [
    "import os\n",
    "import numpy as np\n",
    "import tensorflow as tf\n",
    "from tensorflow.keras.models import Sequential\n",
    "from tensorflow.keras.layers import Conv2D, MaxPooling2D, Flatten, Dense, Dropout\n",
    "from tensorflow.keras.preprocessing.image import ImageDataGenerator\n",
    "from sklearn.model_selection import train_test_split\n",
    "from tensorflow.keras.optimizers import Adam\n",
    "\n",
    "# Загрузка данных\n",
    "# Лоакально есть директория с изображениями с поддиректориями 'with_3d' и 'without_3d'\n",
    "# Изображение брались из https://blendswap.com/ и https://picsum.photos/\n",
    "data_dir = 'C:\\\\Users\\\\Eugene\\\\Documents\\\\hack\\\\datasets'\n",
    "batch_size = 32\n",
    "img_height = 180\n",
    "img_width = 180"
   ]
  },
  {
   "cell_type": "code",
   "execution_count": 13,
   "id": "6764e16b-1f74-4b07-aec0-b19bdada3c65",
   "metadata": {},
   "outputs": [
    {
     "name": "stdout",
     "output_type": "stream",
     "text": [
      "Found 1446 images belonging to 2 classes.\n"
     ]
    }
   ],
   "source": [
    "# Создание генераторов данных\n",
    "datagen = ImageDataGenerator(rescale=1./255, validation_split=0.2)\n",
    "\n",
    "train_generator = datagen.flow_from_directory(\n",
    "    data_dir,\n",
    "    target_size=(img_height, img_width),\n",
    "    batch_size=batch_size,\n",
    "    class_mode='binary',\n",
    "    subset='training'\n",
    ")"
   ]
  },
  {
   "cell_type": "code",
   "execution_count": null,
   "id": "f2c14c42-7d1d-4e28-a6a5-243e859319f4",
   "metadata": {},
   "outputs": [],
   "source": [
    "validation_generator = datagen.flow_from_directory(\n",
    "    data_dir,\n",
    "    target_size=(img_height, img_width),\n",
    "    batch_size=batch_size,\n",
    "    class_mode='binary',\n",
    "    subset='validation'\n",
    ")"
   ]
  },
  {
   "cell_type": "code",
   "execution_count": 17,
   "id": "42fb0ed2-7bcd-4161-b5de-0f34fb717316",
   "metadata": {},
   "outputs": [],
   "source": [
    "\n",
    "# Создание модели\n",
    "\n",
    "from tensorflow.keras.models import Sequential\n",
    "from tensorflow.keras.layers import Conv2D, MaxPooling2D, Flatten, Dense, Dropout\n",
    "\n",
    "model = Sequential([\n",
    "    Conv2D(16, (3, 3), activation='relu', input_shape=(180, 180, 3)),  # Меньше фильтров\n",
    "    MaxPooling2D(2, 2),\n",
    "    Conv2D(32, (3, 3), activation='relu'),  # Меньше фильтров\n",
    "    MaxPooling2D(2, 2),\n",
    "    Flatten(),\n",
    "    Dense(64, activation='relu'),  # Меньше нейронов\n",
    "    Dropout(0.5),\n",
    "    Dense(1, activation='sigmoid')\n",
    "])\n",
    "\n",
    "model.compile(optimizer='adam', loss='binary_crossentropy', metrics=['accuracy'])\n",
    "\n"
   ]
  },
  {
   "cell_type": "code",
   "execution_count": 23,
   "id": "7a5d4ec6-bb5b-4f55-ae8c-d99dd40d8082",
   "metadata": {},
   "outputs": [],
   "source": [
    "from tensorflow.keras.callbacks import ModelCheckpoint\n",
    "\n",
    "checkpoint_path = \"C:\\\\Users\\\\Eugene\\\\Documents\\\\hack\\\\model_epoch_{epoch:02d}.weights.h5\"\n",
    "checkpoint = ModelCheckpoint(checkpoint_path, save_weights_only=True, save_freq='epoch')"
   ]
  },
  {
   "cell_type": "code",
   "execution_count": 24,
   "id": "bb07bea5-4ead-49c5-b40a-267acb8cfe7e",
   "metadata": {},
   "outputs": [],
   "source": [
    "# Компиляция модели\n",
    "model.compile(optimizer=Adam(learning_rate=0.0001),\n",
    "              loss='binary_crossentropy',\n",
    "              metrics=['accuracy'])\n",
    "\n"
   ]
  },
  {
   "cell_type": "code",
   "execution_count": 63,
   "id": "667e4547-8074-44d1-aba9-012967280efd",
   "metadata": {},
   "outputs": [
    {
     "name": "stdout",
     "output_type": "stream",
     "text": [
      "Epoch 41/50\n",
      "\u001b[1m45/45\u001b[0m \u001b[32m━━━━━━━━━━━━━━━━━━━━\u001b[0m\u001b[37m\u001b[0m \u001b[1m127s\u001b[0m 2s/step - accuracy: 0.9288 - loss: 0.2077 - val_accuracy: 0.8494 - val_loss: 0.3852\n",
      "Epoch 42/50\n",
      "\u001b[1m45/45\u001b[0m \u001b[32m━━━━━━━━━━━━━━━━━━━━\u001b[0m\u001b[37m\u001b[0m \u001b[1m1s\u001b[0m 11ms/step - accuracy: 1.0000 - loss: 0.0971 - val_accuracy: 1.0000 - val_loss: 0.0807\n",
      "Epoch 43/50\n",
      "\u001b[1m45/45\u001b[0m \u001b[32m━━━━━━━━━━━━━━━━━━━━\u001b[0m\u001b[37m\u001b[0m \u001b[1m134s\u001b[0m 3s/step - accuracy: 0.9323 - loss: 0.1883 - val_accuracy: 0.8722 - val_loss: 0.3877\n",
      "Epoch 44/50\n",
      "\u001b[1m45/45\u001b[0m \u001b[32m━━━━━━━━━━━━━━━━━━━━\u001b[0m\u001b[37m\u001b[0m \u001b[1m1s\u001b[0m 14ms/step - accuracy: 0.9688 - loss: 0.1317 - val_accuracy: 0.8889 - val_loss: 0.5617\n",
      "Epoch 45/50\n",
      "\u001b[1m45/45\u001b[0m \u001b[32m━━━━━━━━━━━━━━━━━━━━\u001b[0m\u001b[37m\u001b[0m \u001b[1m129s\u001b[0m 3s/step - accuracy: 0.9422 - loss: 0.1713 - val_accuracy: 0.8381 - val_loss: 0.4010\n",
      "Epoch 46/50\n",
      "\u001b[1m45/45\u001b[0m \u001b[32m━━━━━━━━━━━━━━━━━━━━\u001b[0m\u001b[37m\u001b[0m \u001b[1m1s\u001b[0m 15ms/step - accuracy: 0.9688 - loss: 0.1021 - val_accuracy: 1.0000 - val_loss: 0.1411\n",
      "Epoch 47/50\n",
      "\u001b[1m45/45\u001b[0m \u001b[32m━━━━━━━━━━━━━━━━━━━━\u001b[0m\u001b[37m\u001b[0m \u001b[1m121s\u001b[0m 2s/step - accuracy: 0.9512 - loss: 0.1538 - val_accuracy: 0.8608 - val_loss: 0.3958\n",
      "Epoch 48/50\n",
      "\u001b[1m45/45\u001b[0m \u001b[32m━━━━━━━━━━━━━━━━━━━━\u001b[0m\u001b[37m\u001b[0m \u001b[1m1s\u001b[0m 10ms/step - accuracy: 1.0000 - loss: 0.1289 - val_accuracy: 0.7778 - val_loss: 0.3172\n",
      "Epoch 49/50\n",
      "\u001b[1m45/45\u001b[0m \u001b[32m━━━━━━━━━━━━━━━━━━━━\u001b[0m\u001b[37m\u001b[0m \u001b[1m116s\u001b[0m 2s/step - accuracy: 0.9471 - loss: 0.1601 - val_accuracy: 0.8608 - val_loss: 0.4329\n",
      "Epoch 50/50\n",
      "\u001b[1m45/45\u001b[0m \u001b[32m━━━━━━━━━━━━━━━━━━━━\u001b[0m\u001b[37m\u001b[0m \u001b[1m1s\u001b[0m 13ms/step - accuracy: 0.9688 - loss: 0.1734 - val_accuracy: 1.0000 - val_loss: 0.1359\n"
     ]
    }
   ],
   "source": [
    "# Обучение модели\n",
    "history = model.fit(\n",
    "    train_generator,\n",
    "    steps_per_epoch=train_generator.samples // batch_size,\n",
    "    validation_data=validation_generator,\n",
    "    validation_steps=validation_generator.samples // batch_size,\n",
    "    initial_epoch=40,\n",
    "    epochs=50,\n",
    "    callbacks=[checkpoint]\n",
    ")"
   ]
  },
  {
   "cell_type": "code",
   "execution_count": 53,
   "id": "e5bd2d2f-a6eb-4c8d-8661-d9d02a2e677e",
   "metadata": {},
   "outputs": [],
   "source": [
    "model.load_weights(\"C:\\\\Users\\\\Eugene\\\\Documents\\\\hack\\\\model_epoch_31.weights.h5\")"
   ]
  },
  {
   "cell_type": "code",
   "execution_count": 58,
   "id": "15a130ac-65e4-4a1f-8521-273e8732cd06",
   "metadata": {},
   "outputs": [
    {
     "name": "stdout",
     "output_type": "stream",
     "text": [
      "\u001b[1m11/11\u001b[0m \u001b[32m━━━━━━━━━━━━━━━━━━━━\u001b[0m\u001b[37m\u001b[0m \u001b[1m21s\u001b[0m 2s/step - accuracy: 0.7946 - loss: 0.4841\n",
      "Test accuracy at 5 epoch: 77.84%\n",
      "\u001b[1m11/11\u001b[0m \u001b[32m━━━━━━━━━━━━━━━━━━━━\u001b[0m\u001b[37m\u001b[0m \u001b[1m21s\u001b[0m 2s/step - accuracy: 0.7908 - loss: 0.4697\n",
      "Test accuracy at 6 epoch: 78.12%\n",
      "\u001b[1m11/11\u001b[0m \u001b[32m━━━━━━━━━━━━━━━━━━━━\u001b[0m\u001b[37m\u001b[0m \u001b[1m23s\u001b[0m 2s/step - accuracy: 0.8117 - loss: 0.4467\n",
      "Test accuracy at 7 epoch: 79.55%\n",
      "\u001b[1m11/11\u001b[0m \u001b[32m━━━━━━━━━━━━━━━━━━━━\u001b[0m\u001b[37m\u001b[0m \u001b[1m21s\u001b[0m 2s/step - accuracy: 0.7888 - loss: 0.4663\n",
      "Test accuracy at 8 epoch: 79.55%\n",
      "\u001b[1m11/11\u001b[0m \u001b[32m━━━━━━━━━━━━━━━━━━━━\u001b[0m\u001b[37m\u001b[0m \u001b[1m27s\u001b[0m 2s/step - accuracy: 0.8009 - loss: 0.4409\n",
      "Test accuracy at 9 epoch: 80.68%\n",
      "\u001b[1m11/11\u001b[0m \u001b[32m━━━━━━━━━━━━━━━━━━━━\u001b[0m\u001b[37m\u001b[0m \u001b[1m22s\u001b[0m 2s/step - accuracy: 0.7767 - loss: 0.4713\n",
      "Test accuracy at 10 epoch: 80.11%\n",
      "\u001b[1m11/11\u001b[0m \u001b[32m━━━━━━━━━━━━━━━━━━━━\u001b[0m\u001b[37m\u001b[0m \u001b[1m22s\u001b[0m 2s/step - accuracy: 0.8268 - loss: 0.4133\n",
      "Test accuracy at 11 epoch: 80.68%\n",
      "\u001b[1m11/11\u001b[0m \u001b[32m━━━━━━━━━━━━━━━━━━━━\u001b[0m\u001b[37m\u001b[0m \u001b[1m25s\u001b[0m 2s/step - accuracy: 0.8150 - loss: 0.4105\n",
      "Test accuracy at 12 epoch: 80.40%\n",
      "\u001b[1m11/11\u001b[0m \u001b[32m━━━━━━━━━━━━━━━━━━━━\u001b[0m\u001b[37m\u001b[0m \u001b[1m20s\u001b[0m 2s/step - accuracy: 0.8239 - loss: 0.4163\n",
      "Test accuracy at 13 epoch: 80.40%\n",
      "\u001b[1m11/11\u001b[0m \u001b[32m━━━━━━━━━━━━━━━━━━━━\u001b[0m\u001b[37m\u001b[0m \u001b[1m24s\u001b[0m 2s/step - accuracy: 0.8022 - loss: 0.4242\n",
      "Test accuracy at 14 epoch: 80.40%\n",
      "\u001b[1m11/11\u001b[0m \u001b[32m━━━━━━━━━━━━━━━━━━━━\u001b[0m\u001b[37m\u001b[0m \u001b[1m22s\u001b[0m 2s/step - accuracy: 0.8002 - loss: 0.4431\n",
      "Test accuracy at 15 epoch: 80.97%\n",
      "\u001b[1m11/11\u001b[0m \u001b[32m━━━━━━━━━━━━━━━━━━━━\u001b[0m\u001b[37m\u001b[0m \u001b[1m22s\u001b[0m 2s/step - accuracy: 0.7897 - loss: 0.4035\n",
      "Test accuracy at 16 epoch: 80.11%\n",
      "\u001b[1m11/11\u001b[0m \u001b[32m━━━━━━━━━━━━━━━━━━━━\u001b[0m\u001b[37m\u001b[0m \u001b[1m24s\u001b[0m 2s/step - accuracy: 0.8038 - loss: 0.4357\n",
      "Test accuracy at 17 epoch: 82.95%\n",
      "\u001b[1m11/11\u001b[0m \u001b[32m━━━━━━━━━━━━━━━━━━━━\u001b[0m\u001b[37m\u001b[0m \u001b[1m25s\u001b[0m 2s/step - accuracy: 0.7872 - loss: 0.4876\n",
      "Test accuracy at 18 epoch: 78.98%\n",
      "\u001b[1m11/11\u001b[0m \u001b[32m━━━━━━━━━━━━━━━━━━━━\u001b[0m\u001b[37m\u001b[0m \u001b[1m19s\u001b[0m 2s/step - accuracy: 0.7641 - loss: 0.4707\n",
      "Test accuracy at 19 epoch: 78.12%\n",
      "\u001b[1m11/11\u001b[0m \u001b[32m━━━━━━━━━━━━━━━━━━━━\u001b[0m\u001b[37m\u001b[0m \u001b[1m20s\u001b[0m 2s/step - accuracy: 0.8195 - loss: 0.3894\n",
      "Test accuracy at 20 epoch: 82.67%\n",
      "\u001b[1m11/11\u001b[0m \u001b[32m━━━━━━━━━━━━━━━━━━━━\u001b[0m\u001b[37m\u001b[0m \u001b[1m21s\u001b[0m 2s/step - accuracy: 0.7988 - loss: 0.3987\n",
      "Test accuracy at 21 epoch: 81.53%\n",
      "\u001b[1m11/11\u001b[0m \u001b[32m━━━━━━━━━━━━━━━━━━━━\u001b[0m\u001b[37m\u001b[0m \u001b[1m22s\u001b[0m 2s/step - accuracy: 0.7885 - loss: 0.4262\n",
      "Test accuracy at 22 epoch: 82.95%\n",
      "\u001b[1m11/11\u001b[0m \u001b[32m━━━━━━━━━━━━━━━━━━━━\u001b[0m\u001b[37m\u001b[0m \u001b[1m21s\u001b[0m 2s/step - accuracy: 0.8422 - loss: 0.3634\n",
      "Test accuracy at 23 epoch: 82.67%\n",
      "\u001b[1m11/11\u001b[0m \u001b[32m━━━━━━━━━━━━━━━━━━━━\u001b[0m\u001b[37m\u001b[0m \u001b[1m29s\u001b[0m 2s/step - accuracy: 0.8191 - loss: 0.4087\n",
      "Test accuracy at 24 epoch: 81.53%\n",
      "\u001b[1m11/11\u001b[0m \u001b[32m━━━━━━━━━━━━━━━━━━━━\u001b[0m\u001b[37m\u001b[0m \u001b[1m34s\u001b[0m 3s/step - accuracy: 0.8235 - loss: 0.4169\n",
      "Test accuracy at 25 epoch: 83.81%\n",
      "\u001b[1m11/11\u001b[0m \u001b[32m━━━━━━━━━━━━━━━━━━━━\u001b[0m\u001b[37m\u001b[0m \u001b[1m31s\u001b[0m 3s/step - accuracy: 0.8487 - loss: 0.3537\n",
      "Test accuracy at 26 epoch: 82.67%\n",
      "\u001b[1m11/11\u001b[0m \u001b[32m━━━━━━━━━━━━━━━━━━━━\u001b[0m\u001b[37m\u001b[0m \u001b[1m19s\u001b[0m 2s/step - accuracy: 0.8411 - loss: 0.3658\n",
      "Test accuracy at 27 epoch: 82.67%\n",
      "\u001b[1m11/11\u001b[0m \u001b[32m━━━━━━━━━━━━━━━━━━━━\u001b[0m\u001b[37m\u001b[0m \u001b[1m21s\u001b[0m 2s/step - accuracy: 0.8503 - loss: 0.3803\n",
      "Test accuracy at 28 epoch: 85.23%\n",
      "\u001b[1m11/11\u001b[0m \u001b[32m━━━━━━━━━━━━━━━━━━━━\u001b[0m\u001b[37m\u001b[0m \u001b[1m25s\u001b[0m 2s/step - accuracy: 0.8499 - loss: 0.3766\n",
      "Test accuracy at 29 epoch: 85.51%\n",
      "\u001b[1m11/11\u001b[0m \u001b[32m━━━━━━━━━━━━━━━━━━━━\u001b[0m\u001b[37m\u001b[0m \u001b[1m16s\u001b[0m 1s/step - accuracy: 0.8436 - loss: 0.3529\n",
      "Test accuracy at 30 epoch: 84.94%\n",
      "\u001b[1m11/11\u001b[0m \u001b[32m━━━━━━━━━━━━━━━━━━━━\u001b[0m\u001b[37m\u001b[0m \u001b[1m24s\u001b[0m 2s/step - accuracy: 0.8894 - loss: 0.3813\n",
      "Test accuracy at 31 epoch: 87.22%\n",
      "\u001b[1m11/11\u001b[0m \u001b[32m━━━━━━━━━━━━━━━━━━━━\u001b[0m\u001b[37m\u001b[0m \u001b[1m24s\u001b[0m 2s/step - accuracy: 0.8765 - loss: 0.4111\n",
      "Test accuracy at 32 epoch: 86.65%\n",
      "\u001b[1m11/11\u001b[0m \u001b[32m━━━━━━━━━━━━━━━━━━━━\u001b[0m\u001b[37m\u001b[0m \u001b[1m16s\u001b[0m 1s/step - accuracy: 0.8545 - loss: 0.3448\n",
      "Test accuracy at 33 epoch: 84.66%\n",
      "\u001b[1m11/11\u001b[0m \u001b[32m━━━━━━━━━━━━━━━━━━━━\u001b[0m\u001b[37m\u001b[0m \u001b[1m13s\u001b[0m 1s/step - accuracy: 0.8403 - loss: 0.3904\n",
      "Test accuracy at 34 epoch: 85.23%\n",
      "\u001b[1m11/11\u001b[0m \u001b[32m━━━━━━━━━━━━━━━━━━━━\u001b[0m\u001b[37m\u001b[0m \u001b[1m14s\u001b[0m 1s/step - accuracy: 0.8365 - loss: 0.3867\n",
      "Test accuracy at 35 epoch: 85.51%\n"
     ]
    }
   ],
   "source": [
    "for epo in range(5, 36):\n",
    "    if epo < 10:\n",
    "        g = f'0{epo}'\n",
    "    else:\n",
    "        g = epo\n",
    "    model.load_weights(f\"C:\\\\Users\\\\Eugene\\\\Documents\\\\hack\\\\model_epoch_{g}.weights.h5\")\n",
    "    accuracy = model.evaluate(validation_generator, steps=validation_generator.samples // batch_size)\n",
    "    print(f'Test accuracy at {epo} epoch: {accuracy[1] * 100:.2f}%')\n"
   ]
  },
  {
   "cell_type": "code",
   "execution_count": 61,
   "id": "49d9c6ab-a662-4683-b720-8292612514c7",
   "metadata": {},
   "outputs": [
    {
     "name": "stdout",
     "output_type": "stream",
     "text": [
      "\u001b[1m11/11\u001b[0m \u001b[32m━━━━━━━━━━━━━━━━━━━━\u001b[0m\u001b[37m\u001b[0m \u001b[1m24s\u001b[0m 2s/step - accuracy: 0.8587 - loss: 0.3993\n",
      "Test accuracy at 36 epoch: 86.36%\n",
      "\u001b[1m11/11\u001b[0m \u001b[32m━━━━━━━━━━━━━━━━━━━━\u001b[0m\u001b[37m\u001b[0m \u001b[1m22s\u001b[0m 2s/step - accuracy: 0.8430 - loss: 0.4320\n",
      "Test accuracy at 37 epoch: 86.36%\n",
      "\u001b[1m11/11\u001b[0m \u001b[32m━━━━━━━━━━━━━━━━━━━━\u001b[0m\u001b[37m\u001b[0m \u001b[1m23s\u001b[0m 2s/step - accuracy: 0.8472 - loss: 0.3311\n",
      "Test accuracy at 38 epoch: 84.09%\n",
      "\u001b[1m11/11\u001b[0m \u001b[32m━━━━━━━━━━━━━━━━━━━━\u001b[0m\u001b[37m\u001b[0m \u001b[1m20s\u001b[0m 2s/step - accuracy: 0.8425 - loss: 0.3665\n",
      "Test accuracy at 39 epoch: 84.38%\n",
      "\u001b[1m11/11\u001b[0m \u001b[32m━━━━━━━━━━━━━━━━━━━━\u001b[0m\u001b[37m\u001b[0m \u001b[1m22s\u001b[0m 2s/step - accuracy: 0.8765 - loss: 0.3658\n",
      "Test accuracy at 40 epoch: 86.93%\n"
     ]
    }
   ],
   "source": [
    "for epo in range(36, 41):\n",
    "    if epo < 10:\n",
    "        g = f'0{epo}'\n",
    "    else:\n",
    "        g = epo\n",
    "    model.load_weights(f\"C:\\\\Users\\\\Eugene\\\\Documents\\\\hack\\\\model_epoch_{g}.weights.h5\")\n",
    "    accuracy = model.evaluate(validation_generator, steps=validation_generator.samples // batch_size)\n",
    "    print(f'Test accuracy at {epo} epoch: {accuracy[1] * 100:.2f}%')\n"
   ]
  },
  {
   "cell_type": "code",
   "execution_count": 64,
   "id": "13998726-0fb7-493a-aa9b-955d89fe4dc1",
   "metadata": {},
   "outputs": [
    {
     "name": "stdout",
     "output_type": "stream",
     "text": [
      "\u001b[1m11/11\u001b[0m \u001b[32m━━━━━━━━━━━━━━━━━━━━\u001b[0m\u001b[37m\u001b[0m \u001b[1m10s\u001b[0m 859ms/step - accuracy: 0.8495 - loss: 0.3662\n",
      "Test accuracy at 41 epoch: 85.51%\n",
      "\u001b[1m11/11\u001b[0m \u001b[32m━━━━━━━━━━━━━━━━━━━━\u001b[0m\u001b[37m\u001b[0m \u001b[1m16s\u001b[0m 1s/step - accuracy: 0.8424 - loss: 0.3838\n",
      "Test accuracy at 42 epoch: 84.38%\n",
      "\u001b[1m11/11\u001b[0m \u001b[32m━━━━━━━━━━━━━━━━━━━━\u001b[0m\u001b[37m\u001b[0m \u001b[1m12s\u001b[0m 1s/step - accuracy: 0.8695 - loss: 0.4343\n",
      "Test accuracy at 43 epoch: 86.93%\n",
      "\u001b[1m11/11\u001b[0m \u001b[32m━━━━━━━━━━━━━━━━━━━━\u001b[0m\u001b[37m\u001b[0m \u001b[1m11s\u001b[0m 983ms/step - accuracy: 0.8788 - loss: 0.4266\n",
      "Test accuracy at 44 epoch: 87.50%\n",
      "\u001b[1m11/11\u001b[0m \u001b[32m━━━━━━━━━━━━━━━━━━━━\u001b[0m\u001b[37m\u001b[0m \u001b[1m14s\u001b[0m 1s/step - accuracy: 0.8354 - loss: 0.3632\n",
      "Test accuracy at 45 epoch: 84.66%\n",
      "\u001b[1m11/11\u001b[0m \u001b[32m━━━━━━━━━━━━━━━━━━━━\u001b[0m\u001b[37m\u001b[0m \u001b[1m15s\u001b[0m 1s/step - accuracy: 0.8382 - loss: 0.4112\n",
      "Test accuracy at 46 epoch: 84.09%\n",
      "\u001b[1m11/11\u001b[0m \u001b[32m━━━━━━━━━━━━━━━━━━━━\u001b[0m\u001b[37m\u001b[0m \u001b[1m18s\u001b[0m 2s/step - accuracy: 0.8794 - loss: 0.3951\n",
      "Test accuracy at 47 epoch: 85.80%\n",
      "\u001b[1m11/11\u001b[0m \u001b[32m━━━━━━━━━━━━━━━━━━━━\u001b[0m\u001b[37m\u001b[0m \u001b[1m11s\u001b[0m 1s/step - accuracy: 0.8583 - loss: 0.4461\n",
      "Test accuracy at 48 epoch: 84.66%\n",
      "\u001b[1m11/11\u001b[0m \u001b[32m━━━━━━━━━━━━━━━━━━━━\u001b[0m\u001b[37m\u001b[0m \u001b[1m13s\u001b[0m 1s/step - accuracy: 0.8834 - loss: 0.3897\n",
      "Test accuracy at 49 epoch: 86.36%\n",
      "\u001b[1m11/11\u001b[0m \u001b[32m━━━━━━━━━━━━━━━━━━━━\u001b[0m\u001b[37m\u001b[0m \u001b[1m14s\u001b[0m 1s/step - accuracy: 0.8859 - loss: 0.3263\n",
      "Test accuracy at 50 epoch: 85.80%\n"
     ]
    }
   ],
   "source": [
    "for epo in range(41, 51):\n",
    "    if epo < 10:\n",
    "        g = f'0{epo}'\n",
    "    else:\n",
    "        g = epo\n",
    "    model.load_weights(f\"C:\\\\Users\\\\Eugene\\\\Documents\\\\hack\\\\model_epoch_{g}.weights.h5\")\n",
    "    accuracy = model.evaluate(validation_generator, steps=validation_generator.samples // batch_size)\n",
    "    print(f'Test accuracy at {epo} epoch: {accuracy[1] * 100:.2f}%')\n"
   ]
  },
  {
   "cell_type": "code",
   "execution_count": null,
   "id": "73be5e6d-9e5b-41d0-b8fc-c3a6c450b07f",
   "metadata": {},
   "outputs": [],
   "source": [
    "\n",
    "# Сохранение модели\n",
    "model.save('C:\\\\Users\\\\Eugene\\\\Documents\\\\hack\\\\3d_detection_model.h5')"
   ]
  }
 ],
 "metadata": {
  "kernelspec": {
   "display_name": "Python 3 (ipykernel)",
   "language": "python",
   "name": "python3"
  },
  "language_info": {
   "codemirror_mode": {
    "name": "ipython",
    "version": 3
   },
   "file_extension": ".py",
   "mimetype": "text/x-python",
   "name": "python",
   "nbconvert_exporter": "python",
   "pygments_lexer": "ipython3",
   "version": "3.8.19"
  }
 },
 "nbformat": 4,
 "nbformat_minor": 5
}
