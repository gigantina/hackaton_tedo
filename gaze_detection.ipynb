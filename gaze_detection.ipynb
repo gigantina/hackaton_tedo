{
 "cells": [
  {
   "cell_type": "code",
   "execution_count": 44,
   "id": "92dec0e4-2b18-4e63-b2f7-17ae32d00e37",
   "metadata": {},
   "outputs": [],
   "source": [
    "import cv2\n",
    "import dlib\n",
    "import numpy as np"
   ]
  },
  {
   "cell_type": "code",
   "execution_count": 45,
   "id": "996fa0ad-b8d9-44b4-9c96-7c208a75a06e",
   "metadata": {},
   "outputs": [],
   "source": [
    "faces_model_path = \"C:\\\\Users\\\\Eugene\\\\Documents\\\\hack\\models\\\\shape_predictor_68_face_landmarks.dat\"\n",
    "# модель из библиотеки dlib установлена локально"
   ]
  },
  {
   "cell_type": "code",
   "execution_count": 46,
   "id": "0384f5a4-28d0-44db-a99e-ff4ba6f1d765",
   "metadata": {},
   "outputs": [],
   "source": [
    "def load_image(image_path):\n",
    "    return cv2.imread(image_path)"
   ]
  },
  {
   "cell_type": "code",
   "execution_count": 47,
   "id": "e028bebc-c8b0-42ea-9cdd-6d9503033f1e",
   "metadata": {},
   "outputs": [],
   "source": [
    "def find_faces(image):\n",
    "    detector = dlib.get_frontal_face_detector()\n",
    "    return detector(image, 1)"
   ]
  },
  {
   "cell_type": "code",
   "execution_count": 48,
   "id": "4ca57fff-9b3f-4122-8516-5c264ee56b7f",
   "metadata": {},
   "outputs": [],
   "source": [
    "def get_landmarks(image, faces):\n",
    "    predictor = dlib.shape_predictor(faces_model_path)\n",
    "    landmarks = []\n",
    "    for face in faces:\n",
    "        landmarks.append(predictor(image, face))\n",
    "    return landmarks"
   ]
  },
  {
   "cell_type": "code",
   "execution_count": 49,
   "id": "0e20cb06-78e0-4206-9371-1c005e0796cb",
   "metadata": {},
   "outputs": [],
   "source": [
    "\n",
    "def is_looking_at_camera(landmarks):\n",
    "    for landmark in landmarks:\n",
    "        left_eye = np.array([landmark.part(36).x, landmark.part(36).y])\n",
    "        right_eye = np.array([landmark.part(45).x, landmark.part(45).y])\n",
    "        eye_line = right_eye - left_eye\n",
    "        angle = np.arctan2(eye_line[1], eye_line[0]) * 180.0 / np.pi\n",
    "        if abs(angle) < 10:  # angle threshold might need adjustment\n",
    "            return True\n",
    "    return False"
   ]
  },
  {
   "cell_type": "code",
   "execution_count": 50,
   "id": "b80f0aae-3e2a-420b-858f-6a4f4a20ca46",
   "metadata": {},
   "outputs": [
    {
     "data": {
      "text/html": [
       "<img src=\"https://media.istockphoto.com/id/1487463646/ru/%D1%84%D0%BE%D1%82%D0%BE/%D0%B6%D0%B5%D0%BD%D1%89%D0%B8%D0%BD%D0%B0-%D0%B2%D0%BB%D0%B0%D0%B4%D0%B5%D0%BB%D0%B5%D1%86-%D0%BC%D0%B0%D0%BB%D0%BE%D0%B3%D0%BE-%D0%B1%D0%B8%D0%B7%D0%BD%D0%B5%D1%81%D0%B0-%D1%81%D1%82%D0%BE%D0%B8%D1%82-%D0%B2-%D1%81%D0%B2%D0%BE%D0%B5%D0%B9-%D0%BA%D0%BE%D1%84%D0%B5%D0%B9%D0%BD%D0%B5.jpg?s=1024x1024&w=is&k=20&c=t8E5yc9s2piS29k31x87cmxrI4v14WWDpXO2wpVNJaw=\"/>"
      ],
      "text/plain": [
       "<IPython.core.display.Image object>"
      ]
     },
     "metadata": {},
     "output_type": "display_data"
    }
   ],
   "source": [
    "from IPython.display import Image, display\n",
    "\n",
    "image_url = 'https://media.istockphoto.com/id/1487463646/ru/%D1%84%D0%BE%D1%82%D0%BE/%D0%B6%D0%B5%D0%BD%D1%89%D0%B8%D0%BD%D0%B0-%D0%B2%D0%BB%D0%B0%D0%B4%D0%B5%D0%BB%D0%B5%D1%86-%D0%BC%D0%B0%D0%BB%D0%BE%D0%B3%D0%BE-%D0%B1%D0%B8%D0%B7%D0%BD%D0%B5%D1%81%D0%B0-%D1%81%D1%82%D0%BE%D0%B8%D1%82-%D0%B2-%D1%81%D0%B2%D0%BE%D0%B5%D0%B9-%D0%BA%D0%BE%D1%84%D0%B5%D0%B9%D0%BD%D0%B5.jpg?s=1024x1024&w=is&k=20&c=t8E5yc9s2piS29k31x87cmxrI4v14WWDpXO2wpVNJaw='\n",
    "display(Image(url=image_url))"
   ]
  },
  {
   "cell_type": "code",
   "execution_count": 51,
   "id": "ea9f8db9-5b5d-4ef3-ad9d-ea460faa7a97",
   "metadata": {},
   "outputs": [],
   "source": [
    "image_path = \"C:\\\\Users\\\\Eugene\\\\Downloads\\\\istockphoto-1487463646-1024x1024.jpg\"\n",
    "# фото, показанноее выше, также установлена локально"
   ]
  },
  {
   "cell_type": "code",
   "execution_count": 52,
   "id": "cb941e02-c1c6-42f7-a9b7-5afd705e21a1",
   "metadata": {},
   "outputs": [
    {
     "name": "stdout",
     "output_type": "stream",
     "text": [
      "Looking at camera\n"
     ]
    }
   ],
   "source": [
    "image = load_image(image_path)\n",
    "faces = find_faces(image)\n",
    "\n",
    "# Get landmarks and check if looking at camera\n",
    "landmarks = get_landmarks(image, faces)\n",
    "if is_looking_at_camera(landmarks):\n",
    "    print(\"Looking at camera\")\n",
    "else:\n",
    "    print(\"Not looking at camera\")\n"
   ]
  },
  {
   "cell_type": "code",
   "execution_count": 56,
   "id": "af6112a7-3886-4a33-b899-5b9c9f54ebff",
   "metadata": {},
   "outputs": [
    {
     "data": {
      "text/html": [
       "<img src=\"https://www.crypto-news-flash.com/wp-content/uploads/2022/06/group-g2e68965a9_1920-1024x683.jpg\"/>"
      ],
      "text/plain": [
       "<IPython.core.display.Image object>"
      ]
     },
     "metadata": {},
     "output_type": "display_data"
    }
   ],
   "source": [
    "from IPython.display import Image, display\n",
    "\n",
    "image_url = 'https://www.crypto-news-flash.com/wp-content/uploads/2022/06/group-g2e68965a9_1920-1024x683.jpg'\n",
    "display(Image(url=image_url))"
   ]
  },
  {
   "cell_type": "code",
   "execution_count": 57,
   "id": "e4e28a6f-2690-47c2-b4f0-f1879235ec8a",
   "metadata": {},
   "outputs": [],
   "source": [
    "image_path = \"C:\\\\Users\\\\Eugene\\\\Downloads\\\\group-3137670_1280.jpg\"\n",
    "# фото, показанноее выше, также установлена локально"
   ]
  },
  {
   "cell_type": "code",
   "execution_count": 58,
   "id": "e3458192-eb37-4ad1-a8b0-b760f1788fcd",
   "metadata": {},
   "outputs": [
    {
     "name": "stdout",
     "output_type": "stream",
     "text": [
      "Not looking at camera\n"
     ]
    }
   ],
   "source": [
    "image = load_image(image_path)\n",
    "faces = find_faces(image)\n",
    "\n",
    "# Get landmarks and check if looking at camera\n",
    "landmarks = get_landmarks(image, faces)\n",
    "if is_looking_at_camera(landmarks):\n",
    "    print(\"Looking at camera\")\n",
    "else:\n",
    "    print(\"Not looking at camera\")"
   ]
  },
  {
   "cell_type": "code",
   "execution_count": null,
   "id": "8c893132-8081-4ed8-980c-a5a00d25d862",
   "metadata": {},
   "outputs": [],
   "source": []
  }
 ],
 "metadata": {
  "kernelspec": {
   "display_name": "Python 3 (ipykernel)",
   "language": "python",
   "name": "python3"
  },
  "language_info": {
   "codemirror_mode": {
    "name": "ipython",
    "version": 3
   },
   "file_extension": ".py",
   "mimetype": "text/x-python",
   "name": "python",
   "nbconvert_exporter": "python",
   "pygments_lexer": "ipython3",
   "version": "3.8.19"
  }
 },
 "nbformat": 4,
 "nbformat_minor": 5
}
